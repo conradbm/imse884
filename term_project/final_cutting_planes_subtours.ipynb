{
 "cells": [
  {
   "cell_type": "markdown",
   "metadata": {},
   "source": [
    "# Final Project\n",
    "\n",
    "## Blake Conrad\n",
    "\n",
    "## TSP Subtour Elimination Via Cutting Planes"
   ]
  },
  {
   "cell_type": "code",
   "execution_count": 28,
   "metadata": {},
   "outputs": [
    {
     "name": "stdout",
     "output_type": "stream",
     "text": [
      "(16, 16)\n"
     ]
    },
    {
     "data": {
      "text/html": [
       "<div>\n",
       "<style scoped>\n",
       "    .dataframe tbody tr th:only-of-type {\n",
       "        vertical-align: middle;\n",
       "    }\n",
       "\n",
       "    .dataframe tbody tr th {\n",
       "        vertical-align: top;\n",
       "    }\n",
       "\n",
       "    .dataframe thead th {\n",
       "        text-align: right;\n",
       "    }\n",
       "</style>\n",
       "<table border=\"1\" class=\"dataframe\">\n",
       "  <thead>\n",
       "    <tr style=\"text-align: right;\">\n",
       "      <th></th>\n",
       "      <th>0</th>\n",
       "      <th>1</th>\n",
       "      <th>2</th>\n",
       "      <th>3</th>\n",
       "      <th>4</th>\n",
       "      <th>5</th>\n",
       "      <th>6</th>\n",
       "      <th>7</th>\n",
       "      <th>8</th>\n",
       "      <th>9</th>\n",
       "      <th>10</th>\n",
       "      <th>11</th>\n",
       "      <th>12</th>\n",
       "      <th>13</th>\n",
       "      <th>14</th>\n",
       "      <th>15</th>\n",
       "    </tr>\n",
       "  </thead>\n",
       "  <tbody>\n",
       "    <tr>\n",
       "      <th>0</th>\n",
       "      <td>0</td>\n",
       "      <td>1270</td>\n",
       "      <td>396</td>\n",
       "      <td>189</td>\n",
       "      <td>739</td>\n",
       "      <td>480</td>\n",
       "      <td>364</td>\n",
       "      <td>554</td>\n",
       "      <td>805</td>\n",
       "      <td>1023</td>\n",
       "      <td>941</td>\n",
       "      <td>1617</td>\n",
       "      <td>1753</td>\n",
       "      <td>2581</td>\n",
       "      <td>1237</td>\n",
       "      <td>2682</td>\n",
       "    </tr>\n",
       "    <tr>\n",
       "      <th>1</th>\n",
       "      <td>1270</td>\n",
       "      <td>0</td>\n",
       "      <td>1201</td>\n",
       "      <td>1104</td>\n",
       "      <td>972</td>\n",
       "      <td>1024</td>\n",
       "      <td>960</td>\n",
       "      <td>1094</td>\n",
       "      <td>1028</td>\n",
       "      <td>329</td>\n",
       "      <td>820</td>\n",
       "      <td>967</td>\n",
       "      <td>1710</td>\n",
       "      <td>2258</td>\n",
       "      <td>1246</td>\n",
       "      <td>2571</td>\n",
       "    </tr>\n",
       "    <tr>\n",
       "      <th>2</th>\n",
       "      <td>396</td>\n",
       "      <td>1201</td>\n",
       "      <td>0</td>\n",
       "      <td>294</td>\n",
       "      <td>395</td>\n",
       "      <td>183</td>\n",
       "      <td>287</td>\n",
       "      <td>185</td>\n",
       "      <td>440</td>\n",
       "      <td>893</td>\n",
       "      <td>632</td>\n",
       "      <td>1306</td>\n",
       "      <td>1357</td>\n",
       "      <td>2189</td>\n",
       "      <td>851</td>\n",
       "      <td>2287</td>\n",
       "    </tr>\n",
       "    <tr>\n",
       "      <th>3</th>\n",
       "      <td>189</td>\n",
       "      <td>1104</td>\n",
       "      <td>294</td>\n",
       "      <td>0</td>\n",
       "      <td>571</td>\n",
       "      <td>315</td>\n",
       "      <td>176</td>\n",
       "      <td>409</td>\n",
       "      <td>644</td>\n",
       "      <td>843</td>\n",
       "      <td>759</td>\n",
       "      <td>1433</td>\n",
       "      <td>1616</td>\n",
       "      <td>2431</td>\n",
       "      <td>1085</td>\n",
       "      <td>2556</td>\n",
       "    </tr>\n",
       "    <tr>\n",
       "      <th>4</th>\n",
       "      <td>739</td>\n",
       "      <td>972</td>\n",
       "      <td>395</td>\n",
       "      <td>571</td>\n",
       "      <td>0</td>\n",
       "      <td>259</td>\n",
       "      <td>428</td>\n",
       "      <td>211</td>\n",
       "      <td>88</td>\n",
       "      <td>643</td>\n",
       "      <td>244</td>\n",
       "      <td>910</td>\n",
       "      <td>1072</td>\n",
       "      <td>1866</td>\n",
       "      <td>526</td>\n",
       "      <td>2021</td>\n",
       "    </tr>\n",
       "    <tr>\n",
       "      <th>5</th>\n",
       "      <td>480</td>\n",
       "      <td>1024</td>\n",
       "      <td>183</td>\n",
       "      <td>315</td>\n",
       "      <td>259</td>\n",
       "      <td>0</td>\n",
       "      <td>200</td>\n",
       "      <td>115</td>\n",
       "      <td>329</td>\n",
       "      <td>712</td>\n",
       "      <td>472</td>\n",
       "      <td>1152</td>\n",
       "      <td>1305</td>\n",
       "      <td>2116</td>\n",
       "      <td>770</td>\n",
       "      <td>2249</td>\n",
       "    </tr>\n",
       "    <tr>\n",
       "      <th>6</th>\n",
       "      <td>364</td>\n",
       "      <td>960</td>\n",
       "      <td>287</td>\n",
       "      <td>176</td>\n",
       "      <td>428</td>\n",
       "      <td>200</td>\n",
       "      <td>0</td>\n",
       "      <td>314</td>\n",
       "      <td>509</td>\n",
       "      <td>680</td>\n",
       "      <td>593</td>\n",
       "      <td>1261</td>\n",
       "      <td>1495</td>\n",
       "      <td>2294</td>\n",
       "      <td>953</td>\n",
       "      <td>2442</td>\n",
       "    </tr>\n",
       "    <tr>\n",
       "      <th>7</th>\n",
       "      <td>554</td>\n",
       "      <td>1094</td>\n",
       "      <td>185</td>\n",
       "      <td>409</td>\n",
       "      <td>211</td>\n",
       "      <td>115</td>\n",
       "      <td>314</td>\n",
       "      <td>0</td>\n",
       "      <td>257</td>\n",
       "      <td>772</td>\n",
       "      <td>452</td>\n",
       "      <td>1121</td>\n",
       "      <td>1207</td>\n",
       "      <td>2028</td>\n",
       "      <td>682</td>\n",
       "      <td>2148</td>\n",
       "    </tr>\n",
       "    <tr>\n",
       "      <th>8</th>\n",
       "      <td>805</td>\n",
       "      <td>1028</td>\n",
       "      <td>440</td>\n",
       "      <td>644</td>\n",
       "      <td>88</td>\n",
       "      <td>329</td>\n",
       "      <td>509</td>\n",
       "      <td>257</td>\n",
       "      <td>0</td>\n",
       "      <td>700</td>\n",
       "      <td>248</td>\n",
       "      <td>878</td>\n",
       "      <td>987</td>\n",
       "      <td>1788</td>\n",
       "      <td>444</td>\n",
       "      <td>1935</td>\n",
       "    </tr>\n",
       "    <tr>\n",
       "      <th>9</th>\n",
       "      <td>1023</td>\n",
       "      <td>329</td>\n",
       "      <td>893</td>\n",
       "      <td>843</td>\n",
       "      <td>643</td>\n",
       "      <td>712</td>\n",
       "      <td>680</td>\n",
       "      <td>772</td>\n",
       "      <td>700</td>\n",
       "      <td>0</td>\n",
       "      <td>502</td>\n",
       "      <td>829</td>\n",
       "      <td>1453</td>\n",
       "      <td>2085</td>\n",
       "      <td>953</td>\n",
       "      <td>2356</td>\n",
       "    </tr>\n",
       "    <tr>\n",
       "      <th>10</th>\n",
       "      <td>941</td>\n",
       "      <td>820</td>\n",
       "      <td>632</td>\n",
       "      <td>759</td>\n",
       "      <td>244</td>\n",
       "      <td>472</td>\n",
       "      <td>593</td>\n",
       "      <td>452</td>\n",
       "      <td>248</td>\n",
       "      <td>502</td>\n",
       "      <td>0</td>\n",
       "      <td>680</td>\n",
       "      <td>1008</td>\n",
       "      <td>1741</td>\n",
       "      <td>471</td>\n",
       "      <td>1946</td>\n",
       "    </tr>\n",
       "    <tr>\n",
       "      <th>11</th>\n",
       "      <td>1617</td>\n",
       "      <td>967</td>\n",
       "      <td>1306</td>\n",
       "      <td>1433</td>\n",
       "      <td>910</td>\n",
       "      <td>1152</td>\n",
       "      <td>1261</td>\n",
       "      <td>1121</td>\n",
       "      <td>878</td>\n",
       "      <td>829</td>\n",
       "      <td>680</td>\n",
       "      <td>0</td>\n",
       "      <td>871</td>\n",
       "      <td>1291</td>\n",
       "      <td>670</td>\n",
       "      <td>1623</td>\n",
       "    </tr>\n",
       "    <tr>\n",
       "      <th>12</th>\n",
       "      <td>1753</td>\n",
       "      <td>1710</td>\n",
       "      <td>1357</td>\n",
       "      <td>1616</td>\n",
       "      <td>1072</td>\n",
       "      <td>1305</td>\n",
       "      <td>1495</td>\n",
       "      <td>1207</td>\n",
       "      <td>987</td>\n",
       "      <td>1453</td>\n",
       "      <td>1008</td>\n",
       "      <td>871</td>\n",
       "      <td>0</td>\n",
       "      <td>847</td>\n",
       "      <td>550</td>\n",
       "      <td>949</td>\n",
       "    </tr>\n",
       "    <tr>\n",
       "      <th>13</th>\n",
       "      <td>2581</td>\n",
       "      <td>2258</td>\n",
       "      <td>2189</td>\n",
       "      <td>2431</td>\n",
       "      <td>1866</td>\n",
       "      <td>2116</td>\n",
       "      <td>2294</td>\n",
       "      <td>2028</td>\n",
       "      <td>1788</td>\n",
       "      <td>2085</td>\n",
       "      <td>1741</td>\n",
       "      <td>1291</td>\n",
       "      <td>847</td>\n",
       "      <td>0</td>\n",
       "      <td>1346</td>\n",
       "      <td>452</td>\n",
       "    </tr>\n",
       "    <tr>\n",
       "      <th>14</th>\n",
       "      <td>1237</td>\n",
       "      <td>1246</td>\n",
       "      <td>851</td>\n",
       "      <td>1085</td>\n",
       "      <td>526</td>\n",
       "      <td>770</td>\n",
       "      <td>953</td>\n",
       "      <td>682</td>\n",
       "      <td>444</td>\n",
       "      <td>953</td>\n",
       "      <td>471</td>\n",
       "      <td>670</td>\n",
       "      <td>550</td>\n",
       "      <td>1346</td>\n",
       "      <td>0</td>\n",
       "      <td>1498</td>\n",
       "    </tr>\n",
       "    <tr>\n",
       "      <th>15</th>\n",
       "      <td>2682</td>\n",
       "      <td>2571</td>\n",
       "      <td>2287</td>\n",
       "      <td>2556</td>\n",
       "      <td>2021</td>\n",
       "      <td>2249</td>\n",
       "      <td>2442</td>\n",
       "      <td>2148</td>\n",
       "      <td>1935</td>\n",
       "      <td>2356</td>\n",
       "      <td>1946</td>\n",
       "      <td>1623</td>\n",
       "      <td>949</td>\n",
       "      <td>452</td>\n",
       "      <td>1498</td>\n",
       "      <td>0</td>\n",
       "    </tr>\n",
       "  </tbody>\n",
       "</table>\n",
       "</div>"
      ],
      "text/plain": [
       "       0     1     2     3     4     5     6     7     8     9    10    11  \\\n",
       "0      0  1270   396   189   739   480   364   554   805  1023   941  1617   \n",
       "1   1270     0  1201  1104   972  1024   960  1094  1028   329   820   967   \n",
       "2    396  1201     0   294   395   183   287   185   440   893   632  1306   \n",
       "3    189  1104   294     0   571   315   176   409   644   843   759  1433   \n",
       "4    739   972   395   571     0   259   428   211    88   643   244   910   \n",
       "5    480  1024   183   315   259     0   200   115   329   712   472  1152   \n",
       "6    364   960   287   176   428   200     0   314   509   680   593  1261   \n",
       "7    554  1094   185   409   211   115   314     0   257   772   452  1121   \n",
       "8    805  1028   440   644    88   329   509   257     0   700   248   878   \n",
       "9   1023   329   893   843   643   712   680   772   700     0   502   829   \n",
       "10   941   820   632   759   244   472   593   452   248   502     0   680   \n",
       "11  1617   967  1306  1433   910  1152  1261  1121   878   829   680     0   \n",
       "12  1753  1710  1357  1616  1072  1305  1495  1207   987  1453  1008   871   \n",
       "13  2581  2258  2189  2431  1866  2116  2294  2028  1788  2085  1741  1291   \n",
       "14  1237  1246   851  1085   526   770   953   682   444   953   471   670   \n",
       "15  2682  2571  2287  2556  2021  2249  2442  2148  1935  2356  1946  1623   \n",
       "\n",
       "      12    13    14    15  \n",
       "0   1753  2581  1237  2682  \n",
       "1   1710  2258  1246  2571  \n",
       "2   1357  2189   851  2287  \n",
       "3   1616  2431  1085  2556  \n",
       "4   1072  1866   526  2021  \n",
       "5   1305  2116   770  2249  \n",
       "6   1495  2294   953  2442  \n",
       "7   1207  2028   682  2148  \n",
       "8    987  1788   444  1935  \n",
       "9   1453  2085   953  2356  \n",
       "10  1008  1741   471  1946  \n",
       "11   871  1291   670  1623  \n",
       "12     0   847   550   949  \n",
       "13   847     0  1346   452  \n",
       "14   550  1346     0  1498  \n",
       "15   949   452  1498     0  "
      ]
     },
     "execution_count": 28,
     "metadata": {},
     "output_type": "execute_result"
    }
   ],
   "source": [
    "import pandas as pd\n",
    "import numpy as np\n",
    "import os\n",
    "import networkx as nx\n",
    "import matplotlib.pyplot as plt\n",
    "import itertools\n",
    "\n",
    "os.chdir(r\"C:\\Users\\blakeconrad\\Desktop\\imse884\\term_project\")\n",
    "df = pd.read_csv(\"Nfldata.csv\")\n",
    "df = df.iloc[:,1:].iloc[:16,:16]\n",
    "print(df.shape)\n",
    "df"
   ]
  },
  {
   "cell_type": "markdown",
   "metadata": {},
   "source": [
    "# Solve TSP\n",
    "\n",
    "## Relaxed, allow subtours"
   ]
  },
  {
   "cell_type": "code",
   "execution_count": 36,
   "metadata": {},
   "outputs": [
    {
     "name": "stdout",
     "output_type": "stream",
     "text": [
      "WARNING: DEPRECATED: Cannot call Model.create_instance() on a constructed\n",
      "    model; returning a clone of the current model instance.\n"
     ]
    },
    {
     "data": {
      "image/png": "[encoded data removed]",
      "text/plain": [
       "<Figure size 432x288 with 1 Axes>"
      ]
     },
     "metadata": {},
     "output_type": "display_data"
    }
   ],
   "source": [
    "import os\n",
    "import pyomo.environ as pyo\n",
    "from pyomo.environ import *\n",
    "\n",
    "from pyomo.opt import SolverFactory\n",
    "\n",
    "opt = pyo.SolverFactory('glpk')\n",
    "\n",
    "model = ConcreteModel()\n",
    "\n",
    "#\n",
    "# TSP DV\n",
    "#\n",
    "#Xij if we travel from i to j\n",
    "#\n",
    "model.X = Var(range(df.shape[0]), range(df.shape[1]), within=Binary, initialize=0)\n",
    "\n",
    "\n",
    "#\n",
    "# TSP Objective\n",
    "#\n",
    "# Min dij*xij\n",
    "#\n",
    "model.obj = Objective(expr = sum([model.X[i,j]*df.iloc[i,j] for i in model.X_index_0.data() for j in model.X_index_1.data()]), \n",
    "                      sense=minimize)\n",
    "model.constraints = ConstraintList()\n",
    "\n",
    "#\n",
    "# TSP Constraints\n",
    "#\n",
    "# sum_j{xij} = 1 for all i\n",
    "#\n",
    "for i in model.X_index_0.data():\n",
    "    model.constraints.add(sum([model.X[i,j] for j in model.X_index_1.data() if i != j]) ==1)\n",
    "\n",
    "# sum_i{xij} = 1 for all j\n",
    "#\n",
    "for j in model.X_index_1.data():\n",
    "    model.constraints.add(sum([model.X[i,j] for i in model.X_index_0.data() if i != j]) ==1)\n",
    "\n",
    "# Remove 2 loops    \n",
    "for i in model.X_index_0.data():\n",
    "    for j in model.X_index_1.data():\n",
    "        model.constraints.add(model.X[i,j] + model.X[j,i] <= 1)\n",
    "\n",
    "# Create a model instance and optimize\n",
    "instance = model.create_instance()\n",
    "results = opt.solve(instance)\n",
    "#instance.display()\n",
    "\n",
    "results={}\n",
    "D = np.zeros((df.shape[0],df.shape[1]), dtype=int)\n",
    "for k,v in instance.X.get_values().items():\n",
    "    if v == 1:\n",
    "        results[k]=v\n",
    "        D[k[0],k[1]]=1\n",
    "        #print(k,v)\n",
    "        \n",
    "G = nx.from_numpy_matrix(D) \n",
    "nx.draw(G, with_labels=True)\n",
    "\n",
    "#solve_model(plot=True)"
   ]
  },
  {
   "cell_type": "markdown",
   "metadata": {},
   "source": [
    "# Clearly subtours exist"
   ]
  },
  {
   "cell_type": "code",
   "execution_count": 37,
   "metadata": {},
   "outputs": [],
   "source": [
    "global model\n",
    "\n",
    "def add_subtour_constraints2(nodes=[], verbose=False):\n",
    "    \n",
    "    tours = list(itertools.permutations(nodes))\n",
    "    tours = [list(tour) + [tour[0]] for tour in tours]\n",
    "\n",
    "    if verbose:\n",
    "        print(\"Total number of subtours for {} is {}\".format(nodes, len(tours)))\n",
    "        if len(tours) < 8:\n",
    "            print(tours)\n",
    "    list_to_sum=[]\n",
    "    for tour in tours:\n",
    "        for i in range(len(tour)-1):\n",
    "            list_to_sum.append(model.X[tour[i],tour[i+1]])\n",
    "            list_to_sum.append(model.X[tour[i+1],tour[i]])\n",
    "    print(\"Constraint added: {}\".format(\" \".join(['{}+'.format(i) for i in list_to_sum])[:-1] + \"<=\" + \"{}\".format(len(tours[0])-1)))\n",
    "    model.constraints.add(sum(list_to_sum) <= len(tours[0])-1)\n",
    "\n",
    "\n",
    "def add_subtour_constraints(nodes=[], verbose=False):\n",
    "    list_to_sum=[]\n",
    "    #nodes.append(nodes[0])\n",
    "    for i in nodes:\n",
    "        for j in nodes:\n",
    "            list_to_sum.append(model.X[i,j])\n",
    "            list_to_sum.append(model.X[j,i])\n",
    "    print(\"Constraint added: {}\".format(\" \".join(['{}+'.format(i) for i in list_to_sum])[:-1] + \"<=\" + \"{}\".format(len(nodes)-1)))\n",
    "    model.constraints.add(sum(list_to_sum) <= len(nodes)-1)\n",
    "\n",
    "def solve_model(plot=False):\n",
    "    \n",
    "    # Create a model instance and optimize\n",
    "    instance = model.create_instance()\n",
    "    results = opt.solve(instance)\n",
    "    #instance.display()\n",
    "\n",
    "    results={}\n",
    "    D = np.zeros((df.shape[0],df.shape[1]), dtype=int)\n",
    "    for k,v in instance.X.get_values().items():\n",
    "        if v == 1:\n",
    "            results[k]=v\n",
    "            D[k[0],k[1]]=1\n",
    "            #print(k,v)\n",
    "\n",
    "    if plot:\n",
    "        G = nx.from_numpy_matrix(D) \n",
    "        nx.draw(G, with_labels=True)\n",
    "        \n",
    "    return D\n"
   ]
  },
  {
   "cell_type": "code",
   "execution_count": null,
   "metadata": {},
   "outputs": [],
   "source": []
  },
  {
   "cell_type": "code",
   "execution_count": null,
   "metadata": {},
   "outputs": [],
   "source": []
  },
  {
   "cell_type": "markdown",
   "metadata": {},
   "source": [
    "# (Feasibility Cut 1 -- Eliminate Subtours )"
   ]
  },
  {
   "cell_type": "code",
   "execution_count": 38,
   "metadata": {},
   "outputs": [
    {
     "name": "stdout",
     "output_type": "stream",
     "text": [
      "Constraint added: X[6,6]+ X[6,6]+ X[6,0]+ X[0,6]+ X[6,3]+ X[3,6]+ X[0,6]+ X[6,0]+ X[0,0]+ X[0,0]+ X[0,3]+ X[3,0]+ X[3,6]+ X[6,3]+ X[3,0]+ X[0,3]+ X[3,3]+ X[3,3]<=2\n",
      "Constraint added: X[12,12]+ X[12,12]+ X[12,13]+ X[13,12]+ X[12,15]+ X[15,12]+ X[13,12]+ X[12,13]+ X[13,13]+ X[13,13]+ X[13,15]+ X[15,13]+ X[15,12]+ X[12,15]+ X[15,13]+ X[13,15]+ X[15,15]+ X[15,15]<=2\n",
      "Constraint added: X[2,2]+ X[2,2]+ X[2,7]+ X[7,2]+ X[2,5]+ X[5,2]+ X[7,2]+ X[2,7]+ X[7,7]+ X[7,7]+ X[7,5]+ X[5,7]+ X[5,2]+ X[2,5]+ X[5,7]+ X[7,5]+ X[5,5]+ X[5,5]<=2\n",
      "Constraint added: X[1,1]+ X[1,1]+ X[1,11]+ X[11,1]+ X[1,14]+ X[14,1]+ X[1,8]+ X[8,1]+ X[1,4]+ X[4,1]+ X[1,10]+ X[10,1]+ X[1,9]+ X[9,1]+ X[11,1]+ X[1,11]+ X[11,11]+ X[11,11]+ X[11,14]+ X[14,11]+ X[11,8]+ X[8,11]+ X[11,4]+ X[4,11]+ X[11,10]+ X[10,11]+ X[11,9]+ X[9,11]+ X[14,1]+ X[1,14]+ X[14,11]+ X[11,14]+ X[14,14]+ X[14,14]+ X[14,8]+ X[8,14]+ X[14,4]+ X[4,14]+ X[14,10]+ X[10,14]+ X[14,9]+ X[9,14]+ X[8,1]+ X[1,8]+ X[8,11]+ X[11,8]+ X[8,14]+ X[14,8]+ X[8,8]+ X[8,8]+ X[8,4]+ X[4,8]+ X[8,10]+ X[10,8]+ X[8,9]+ X[9,8]+ X[4,1]+ X[1,4]+ X[4,11]+ X[11,4]+ X[4,14]+ X[14,4]+ X[4,8]+ X[8,4]+ X[4,4]+ X[4,4]+ X[4,10]+ X[10,4]+ X[4,9]+ X[9,4]+ X[10,1]+ X[1,10]+ X[10,11]+ X[11,10]+ X[10,14]+ X[14,10]+ X[10,8]+ X[8,10]+ X[10,4]+ X[4,10]+ X[10,10]+ X[10,10]+ X[10,9]+ X[9,10]+ X[9,1]+ X[1,9]+ X[9,11]+ X[11,9]+ X[9,14]+ X[14,9]+ X[9,8]+ X[8,9]+ X[9,4]+ X[4,9]+ X[9,10]+ X[10,9]+ X[9,9]+ X[9,9]<=6\n",
      "WARNING: DEPRECATED: Cannot call Model.create_instance() on a constructed\n",
      "    model; returning a clone of the current model instance.\n"
     ]
    },
    {
     "data": {
      "text/plain": [
       "array([[0, 0, 0, 1, 0, 0, 0, 0, 0, 0, 0, 0, 0, 0, 0, 0],\n",
       "       [0, 0, 0, 0, 0, 0, 0, 0, 0, 1, 0, 0, 0, 0, 0, 0],\n",
       "       [1, 0, 0, 0, 0, 0, 0, 0, 0, 0, 0, 0, 0, 0, 0, 0],\n",
       "       [0, 0, 1, 0, 0, 0, 0, 0, 0, 0, 0, 0, 0, 0, 0, 0],\n",
       "       [0, 0, 0, 0, 0, 1, 0, 0, 0, 0, 0, 0, 0, 0, 0, 0],\n",
       "       [0, 0, 0, 0, 0, 0, 1, 0, 0, 0, 0, 0, 0, 0, 0, 0],\n",
       "       [0, 1, 0, 0, 0, 0, 0, 0, 0, 0, 0, 0, 0, 0, 0, 0],\n",
       "       [0, 0, 0, 0, 1, 0, 0, 0, 0, 0, 0, 0, 0, 0, 0, 0],\n",
       "       [0, 0, 0, 0, 0, 0, 0, 1, 0, 0, 0, 0, 0, 0, 0, 0],\n",
       "       [0, 0, 0, 0, 0, 0, 0, 0, 0, 0, 1, 0, 0, 0, 0, 0],\n",
       "       [0, 0, 0, 0, 0, 0, 0, 0, 1, 0, 0, 0, 0, 0, 0, 0],\n",
       "       [0, 0, 0, 0, 0, 0, 0, 0, 0, 0, 0, 0, 1, 0, 0, 0],\n",
       "       [0, 0, 0, 0, 0, 0, 0, 0, 0, 0, 0, 0, 0, 0, 1, 0],\n",
       "       [0, 0, 0, 0, 0, 0, 0, 0, 0, 0, 0, 1, 0, 0, 0, 0],\n",
       "       [0, 0, 0, 0, 0, 0, 0, 0, 0, 0, 0, 0, 0, 0, 0, 1],\n",
       "       [0, 0, 0, 0, 0, 0, 0, 0, 0, 0, 0, 0, 0, 1, 0, 0]])"
      ]
     },
     "execution_count": 38,
     "metadata": {},
     "output_type": "execute_result"
    },
    {
     "data": {
      "image/png": "[encoded data removed]",
      "text/plain": [
       "<Figure size 432x288 with 1 Axes>"
      ]
     },
     "metadata": {},
     "output_type": "display_data"
    }
   ],
   "source": [
    "add_subtour_constraints(nodes=[6,0,3], verbose=True)\n",
    "add_subtour_constraints(nodes=[12,13,15], verbose=True)\n",
    "add_subtour_constraints(nodes=[2,7,5], verbose=True)\n",
    "add_subtour_constraints(nodes=[1,11,14,8,4,10,9], verbose=True)\n",
    "\n",
    "solve_model(plot=True)"
   ]
  },
  {
   "cell_type": "markdown",
   "metadata": {},
   "source": [
    "# (Feasibility Cut 2)"
   ]
  },
  {
   "cell_type": "code",
   "execution_count": 39,
   "metadata": {},
   "outputs": [
    {
     "name": "stdout",
     "output_type": "stream",
     "text": [
      "Constraint added: X[0,0]+ X[0,0]+ X[0,2]+ X[2,0]+ X[0,3]+ X[3,0]+ X[2,0]+ X[0,2]+ X[2,2]+ X[2,2]+ X[2,3]+ X[3,2]+ X[3,0]+ X[0,3]+ X[3,2]+ X[2,3]+ X[3,3]+ X[3,3]<=2\n",
      "Constraint added: X[12,12]+ X[12,12]+ X[12,14]+ X[14,12]+ X[12,15]+ X[15,12]+ X[12,13]+ X[13,12]+ X[12,11]+ X[11,12]+ X[14,12]+ X[12,14]+ X[14,14]+ X[14,14]+ X[14,15]+ X[15,14]+ X[14,13]+ X[13,14]+ X[14,11]+ X[11,14]+ X[15,12]+ X[12,15]+ X[15,14]+ X[14,15]+ X[15,15]+ X[15,15]+ X[15,13]+ X[13,15]+ X[15,11]+ X[11,15]+ X[13,12]+ X[12,13]+ X[13,14]+ X[14,13]+ X[13,15]+ X[15,13]+ X[13,13]+ X[13,13]+ X[13,11]+ X[11,13]+ X[11,12]+ X[12,11]+ X[11,14]+ X[14,11]+ X[11,15]+ X[15,11]+ X[11,13]+ X[13,11]+ X[11,11]+ X[11,11]<=4\n",
      "WARNING: DEPRECATED: Cannot call Model.create_instance() on a constructed\n",
      "    model; returning a clone of the current model instance.\n"
     ]
    },
    {
     "data": {
      "text/plain": [
       "array([[0, 0, 0, 0, 0, 1, 0, 0, 0, 0, 0, 0, 0, 0, 0, 0],\n",
       "       [0, 0, 0, 0, 0, 0, 0, 0, 0, 1, 0, 0, 0, 0, 0, 0],\n",
       "       [0, 0, 0, 0, 1, 0, 0, 0, 0, 0, 0, 0, 0, 0, 0, 0],\n",
       "       [1, 0, 0, 0, 0, 0, 0, 0, 0, 0, 0, 0, 0, 0, 0, 0],\n",
       "       [0, 0, 0, 0, 0, 0, 0, 1, 0, 0, 0, 0, 0, 0, 0, 0],\n",
       "       [0, 0, 0, 1, 0, 0, 0, 0, 0, 0, 0, 0, 0, 0, 0, 0],\n",
       "       [0, 0, 1, 0, 0, 0, 0, 0, 0, 0, 0, 0, 0, 0, 0, 0],\n",
       "       [0, 0, 0, 0, 0, 0, 0, 0, 0, 0, 0, 0, 0, 0, 1, 0],\n",
       "       [0, 0, 0, 0, 0, 0, 0, 0, 0, 0, 0, 0, 1, 0, 0, 0],\n",
       "       [0, 0, 0, 0, 0, 0, 1, 0, 0, 0, 0, 0, 0, 0, 0, 0],\n",
       "       [0, 0, 0, 0, 0, 0, 0, 0, 0, 0, 0, 0, 0, 0, 0, 1],\n",
       "       [0, 1, 0, 0, 0, 0, 0, 0, 0, 0, 0, 0, 0, 0, 0, 0],\n",
       "       [0, 0, 0, 0, 0, 0, 0, 0, 0, 0, 1, 0, 0, 0, 0, 0],\n",
       "       [0, 0, 0, 0, 0, 0, 0, 0, 0, 0, 0, 1, 0, 0, 0, 0],\n",
       "       [0, 0, 0, 0, 0, 0, 0, 0, 1, 0, 0, 0, 0, 0, 0, 0],\n",
       "       [0, 0, 0, 0, 0, 0, 0, 0, 0, 0, 0, 0, 0, 1, 0, 0]])"
      ]
     },
     "execution_count": 39,
     "metadata": {},
     "output_type": "execute_result"
    },
    {
     "data": {
      "image/png": "[encoded data removed]",
      "text/plain": [
       "<Figure size 432x288 with 1 Axes>"
      ]
     },
     "metadata": {},
     "output_type": "display_data"
    }
   ],
   "source": [
    "add_subtour_constraints(nodes=[0,2,3], verbose=True)\n",
    "add_subtour_constraints(nodes=[12,14,15,13,11], verbose=True)\n",
    "\n",
    "solve_model(plot=True)"
   ]
  },
  {
   "cell_type": "markdown",
   "metadata": {},
   "source": [
    "# (Feasibility Cut 3)"
   ]
  },
  {
   "cell_type": "code",
   "execution_count": 40,
   "metadata": {},
   "outputs": [
    {
     "name": "stdout",
     "output_type": "stream",
     "text": [
      "Constraint added: X[0,0]+ X[0,0]+ X[0,3]+ X[3,0]+ X[0,5]+ X[5,0]+ X[3,0]+ X[0,3]+ X[3,3]+ X[3,3]+ X[3,5]+ X[5,3]+ X[5,0]+ X[0,5]+ X[5,3]+ X[3,5]+ X[5,5]+ X[5,5]<=2\n",
      "WARNING: DEPRECATED: Cannot call Model.create_instance() on a constructed\n",
      "    model; returning a clone of the current model instance.\n"
     ]
    },
    {
     "data": {
      "text/plain": [
       "array([[0, 0, 0, 0, 1, 0, 0, 0, 0, 0, 0, 0, 0, 0, 0, 0],\n",
       "       [0, 0, 0, 0, 0, 0, 0, 0, 0, 1, 0, 0, 0, 0, 0, 0],\n",
       "       [0, 0, 0, 0, 0, 1, 0, 0, 0, 0, 0, 0, 0, 0, 0, 0],\n",
       "       [1, 0, 0, 0, 0, 0, 0, 0, 0, 0, 0, 0, 0, 0, 0, 0],\n",
       "       [0, 0, 0, 0, 0, 0, 0, 1, 0, 0, 0, 0, 0, 0, 0, 0],\n",
       "       [0, 0, 0, 0, 0, 0, 1, 0, 0, 0, 0, 0, 0, 0, 0, 0],\n",
       "       [0, 0, 1, 0, 0, 0, 0, 0, 0, 0, 0, 0, 0, 0, 0, 0],\n",
       "       [0, 0, 0, 0, 0, 0, 0, 0, 0, 0, 0, 0, 0, 0, 1, 0],\n",
       "       [0, 0, 0, 0, 0, 0, 0, 0, 0, 0, 0, 0, 1, 0, 0, 0],\n",
       "       [0, 0, 0, 1, 0, 0, 0, 0, 0, 0, 0, 0, 0, 0, 0, 0],\n",
       "       [0, 0, 0, 0, 0, 0, 0, 0, 0, 0, 0, 0, 0, 0, 0, 1],\n",
       "       [0, 1, 0, 0, 0, 0, 0, 0, 0, 0, 0, 0, 0, 0, 0, 0],\n",
       "       [0, 0, 0, 0, 0, 0, 0, 0, 0, 0, 1, 0, 0, 0, 0, 0],\n",
       "       [0, 0, 0, 0, 0, 0, 0, 0, 0, 0, 0, 1, 0, 0, 0, 0],\n",
       "       [0, 0, 0, 0, 0, 0, 0, 0, 1, 0, 0, 0, 0, 0, 0, 0],\n",
       "       [0, 0, 0, 0, 0, 0, 0, 0, 0, 0, 0, 0, 0, 1, 0, 0]])"
      ]
     },
     "execution_count": 40,
     "metadata": {},
     "output_type": "execute_result"
    },
    {
     "data": {
      "image/png": "[encoded data removed]",
      "text/plain": [
       "<Figure size 432x288 with 1 Axes>"
      ]
     },
     "metadata": {},
     "output_type": "display_data"
    }
   ],
   "source": [
    "add_subtour_constraints(nodes=[0,3,5], verbose=True)\n",
    "\n",
    "solve_model(plot=True)"
   ]
  },
  {
   "cell_type": "markdown",
   "metadata": {},
   "source": [
    "# (Feasibility Cut 4)"
   ]
  },
  {
   "cell_type": "code",
   "execution_count": 41,
   "metadata": {},
   "outputs": [
    {
     "name": "stdout",
     "output_type": "stream",
     "text": [
      "Constraint added: X[6,6]+ X[6,6]+ X[6,2]+ X[2,6]+ X[6,5]+ X[5,6]+ X[2,6]+ X[6,2]+ X[2,2]+ X[2,2]+ X[2,5]+ X[5,2]+ X[5,6]+ X[6,5]+ X[5,2]+ X[2,5]+ X[5,5]+ X[5,5]<=2\n",
      "WARNING: DEPRECATED: Cannot call Model.create_instance() on a constructed\n",
      "    model; returning a clone of the current model instance.\n"
     ]
    },
    {
     "data": {
      "text/plain": [
       "array([[0, 0, 0, 0, 0, 1, 0, 0, 0, 0, 0, 0, 0, 0, 0, 0],\n",
       "       [0, 0, 0, 0, 0, 0, 0, 0, 0, 1, 0, 0, 0, 0, 0, 0],\n",
       "       [1, 0, 0, 0, 0, 0, 0, 0, 0, 0, 0, 0, 0, 0, 0, 0],\n",
       "       [0, 0, 0, 0, 0, 0, 1, 0, 0, 0, 0, 0, 0, 0, 0, 0],\n",
       "       [0, 0, 0, 0, 0, 0, 0, 1, 0, 0, 0, 0, 0, 0, 0, 0],\n",
       "       [0, 0, 0, 0, 1, 0, 0, 0, 0, 0, 0, 0, 0, 0, 0, 0],\n",
       "       [0, 0, 1, 0, 0, 0, 0, 0, 0, 0, 0, 0, 0, 0, 0, 0],\n",
       "       [0, 0, 0, 0, 0, 0, 0, 0, 0, 0, 0, 0, 0, 0, 1, 0],\n",
       "       [0, 0, 0, 0, 0, 0, 0, 0, 0, 0, 0, 0, 1, 0, 0, 0],\n",
       "       [0, 0, 0, 1, 0, 0, 0, 0, 0, 0, 0, 0, 0, 0, 0, 0],\n",
       "       [0, 0, 0, 0, 0, 0, 0, 0, 0, 0, 0, 0, 0, 0, 0, 1],\n",
       "       [0, 1, 0, 0, 0, 0, 0, 0, 0, 0, 0, 0, 0, 0, 0, 0],\n",
       "       [0, 0, 0, 0, 0, 0, 0, 0, 0, 0, 1, 0, 0, 0, 0, 0],\n",
       "       [0, 0, 0, 0, 0, 0, 0, 0, 0, 0, 0, 1, 0, 0, 0, 0],\n",
       "       [0, 0, 0, 0, 0, 0, 0, 0, 1, 0, 0, 0, 0, 0, 0, 0],\n",
       "       [0, 0, 0, 0, 0, 0, 0, 0, 0, 0, 0, 0, 0, 1, 0, 0]])"
      ]
     },
     "execution_count": 41,
     "metadata": {},
     "output_type": "execute_result"
    },
    {
     "data": {
      "image/png": "[encoded data removed]",
      "text/plain": [
       "<Figure size 432x288 with 1 Axes>"
      ]
     },
     "metadata": {},
     "output_type": "display_data"
    }
   ],
   "source": [
    "add_subtour_constraints(nodes=[6,2,5], verbose=True)\n",
    "\n",
    "solve_model(plot=True)"
   ]
  },
  {
   "cell_type": "markdown",
   "metadata": {},
   "source": [
    "# Final Solution: 6704\n",
    "\n",
    "\n",
    "## (0,5,4,7,14,8,12,10,15,13,11,1,9,3,6,2,0)\n"
   ]
  },
  {
   "cell_type": "code",
   "execution_count": 43,
   "metadata": {},
   "outputs": [
    {
     "name": "stdout",
     "output_type": "stream",
     "text": [
      "obj : Size=1, Index=None, Active=True\n",
      "    Key  : Active : Value\n",
      "    None :   True : 6704.0\n",
      "None\n"
     ]
    }
   ],
   "source": [
    "obj = instance.obj\n",
    "print(obj.display())"
   ]
  },
  {
   "cell_type": "code",
   "execution_count": null,
   "metadata": {},
   "outputs": [],
   "source": []
  },
  {
   "cell_type": "code",
   "execution_count": null,
   "metadata": {},
   "outputs": [],
   "source": []
  },
  {
   "cell_type": "code",
   "execution_count": null,
   "metadata": {},
   "outputs": [],
   "source": []
  },
  {
   "cell_type": "code",
   "execution_count": null,
   "metadata": {},
   "outputs": [],
   "source": []
  },
  {
   "cell_type": "code",
   "execution_count": null,
   "metadata": {},
   "outputs": [],
   "source": []
  },
  {
   "cell_type": "code",
   "execution_count": null,
   "metadata": {},
   "outputs": [],
   "source": []
  },
  {
   "cell_type": "code",
   "execution_count": null,
   "metadata": {},
   "outputs": [],
   "source": []
  },
  {
   "cell_type": "code",
   "execution_count": null,
   "metadata": {},
   "outputs": [],
   "source": []
  },
  {
   "cell_type": "code",
   "execution_count": null,
   "metadata": {},
   "outputs": [],
   "source": []
  },
  {
   "cell_type": "code",
   "execution_count": null,
   "metadata": {},
   "outputs": [],
   "source": []
  },
  {
   "cell_type": "code",
   "execution_count": null,
   "metadata": {},
   "outputs": [],
   "source": []
  },
  {
   "cell_type": "code",
   "execution_count": null,
   "metadata": {},
   "outputs": [],
   "source": []
  },
  {
   "cell_type": "code",
   "execution_count": null,
   "metadata": {},
   "outputs": [],
   "source": []
  },
  {
   "cell_type": "code",
   "execution_count": null,
   "metadata": {},
   "outputs": [],
   "source": []
  },
  {
   "cell_type": "code",
   "execution_count": null,
   "metadata": {},
   "outputs": [],
   "source": []
  },
  {
   "cell_type": "code",
   "execution_count": null,
   "metadata": {},
   "outputs": [],
   "source": []
  },
  {
   "cell_type": "code",
   "execution_count": null,
   "metadata": {},
   "outputs": [],
   "source": []
  }
 ],
 "metadata": {
  "kernelspec": {
   "display_name": "Python 3",
   "language": "python",
   "name": "python3"
  },
  "language_info": {
   "codemirror_mode": {
    "name": "ipython",
    "version": 3
   },
   "file_extension": ".py",
   "mimetype": "text/x-python",
   "name": "python",
   "nbconvert_exporter": "python",
   "pygments_lexer": "ipython3",
   "version": "3.7.3"
  }
 },
 "nbformat": 4,
 "nbformat_minor": 2
}
